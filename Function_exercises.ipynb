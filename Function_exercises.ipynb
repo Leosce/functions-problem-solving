{
 "cells": [
  {
   "cell_type": "markdown",
   "id": "a336228a-169b-4eff-8994-da7659ad61c9",
   "metadata": {},
   "source": [
    "## Exercises: Level 2"
   ]
  },
  {
   "cell_type": "markdown",
   "id": "a1f333c1-3b4a-42bb-bcec-6298cae2497a",
   "metadata": {},
   "source": [
    "### 1. Declare a function named capitalize_list_items."
   ]
  },
  {
   "cell_type": "code",
   "execution_count": 210,
   "id": "ffc09da3-3bcf-42e6-81e5-212ba47a93e6",
   "metadata": {},
   "outputs": [],
   "source": [
    "def capitalize_list_items(x):\n",
    "    for i in range(len(x)):\n",
    "        x[i]=x[i].capitalize()\n",
    "    return x"
   ]
  },
  {
   "cell_type": "code",
   "execution_count": 212,
   "id": "4bc36612-9a34-47cf-a8c8-2814b4518901",
   "metadata": {},
   "outputs": [
    {
     "data": {
      "text/plain": [
       "['A', 'Orange', '123']"
      ]
     },
     "execution_count": 212,
     "metadata": {},
     "output_type": "execute_result"
    }
   ],
   "source": [
    "list1=['a','orange','123']\n",
    "capitalize_list_items(list1)"
   ]
  },
  {
   "cell_type": "markdown",
   "id": "39c33256-13be-4f07-acf2-68f152f587da",
   "metadata": {},
   "source": [
    "### 2. Declare a function named add_item."
   ]
  },
  {
   "cell_type": "code",
   "execution_count": 215,
   "id": "108e4cf1-bf93-4085-b127-28aec592fce1",
   "metadata": {},
   "outputs": [],
   "source": [
    "def add_item(x,y):\n",
    "    x.append(y)\n",
    "    return x"
   ]
  },
  {
   "cell_type": "code",
   "execution_count": 217,
   "id": "acdad2ac-ece5-452d-85ce-d6a2557071a0",
   "metadata": {},
   "outputs": [
    {
     "data": {
      "text/plain": [
       "['A', 'Orange', '123', 'banana']"
      ]
     },
     "execution_count": 217,
     "metadata": {},
     "output_type": "execute_result"
    }
   ],
   "source": [
    "add_item(list1,'banana')"
   ]
  },
  {
   "cell_type": "markdown",
   "id": "e59e2383-1f5a-4000-aa33-89314895a931",
   "metadata": {},
   "source": [
    "### 3. Declare a function named reverse_list."
   ]
  },
  {
   "cell_type": "code",
   "execution_count": 220,
   "id": "5a021bad-7615-4f04-96dc-f0aa032fc00f",
   "metadata": {},
   "outputs": [],
   "source": [
    "def reverse_list(x):\n",
    "    list1=x.copy()\n",
    "    iter=-1\n",
    "    for i in range(len(x)):\n",
    "        x[i]=list1[iter]\n",
    "        iter=iter-1\n",
    "    return x"
   ]
  },
  {
   "cell_type": "code",
   "execution_count": 222,
   "id": "e720730c-f931-40db-8eae-38d33eff3bf3",
   "metadata": {},
   "outputs": [
    {
     "data": {
      "text/plain": [
       "['banana', '123', 'Orange', 'A']"
      ]
     },
     "execution_count": 222,
     "metadata": {},
     "output_type": "execute_result"
    }
   ],
   "source": [
    "\n",
    "reverse_list(list1)"
   ]
  },
  {
   "cell_type": "markdown",
   "id": "e408e89c-6f8b-416f-9186-43a423df9ed9",
   "metadata": {},
   "source": [
    "### 4. Declare a function named evens_and_odds."
   ]
  },
  {
   "cell_type": "code",
   "execution_count": 237,
   "id": "ff050a9e-9b44-436d-b7e8-6663cfa76c5a",
   "metadata": {},
   "outputs": [],
   "source": [
    "def evens_and_odds(x):\n",
    "    even_counter=0\n",
    "    odd_counter=0\n",
    "    for i in range(x+1):\n",
    "        if i%2==0: even_counter+=1 \n",
    "        if i%2==1: odd_counter+=1\n",
    "    print(f'The number of odds are: {odd_counter}')\n",
    "    print(f'The number of evens are: {even_counter}')"
   ]
  },
  {
   "cell_type": "code",
   "execution_count": 239,
   "id": "5116c759-2737-4ee8-8c2d-49d113b63569",
   "metadata": {},
   "outputs": [
    {
     "name": "stdout",
     "output_type": "stream",
     "text": [
      "The number of odds are: 50\n",
      "The number of evens are: 51\n"
     ]
    }
   ],
   "source": [
    "evens_and_odds(100)"
   ]
  },
  {
   "cell_type": "markdown",
   "id": "20f212be-01f9-49a9-87c7-e75c3e28c3a9",
   "metadata": {},
   "source": [
    "### 5. calculate_mean, calculate_median, calculate_mode"
   ]
  },
  {
   "cell_type": "code",
   "execution_count": 245,
   "id": "1ff69abc-6c70-4a28-bb98-107be8469316",
   "metadata": {},
   "outputs": [],
   "source": [
    "def calculate_mean(x):\n",
    "    sum=0\n",
    "    for i in range(len(x)):\n",
    "        sum+=x[i]\n",
    "    return sum/len(x)"
   ]
  },
  {
   "cell_type": "code",
   "execution_count": 251,
   "id": "befeec8f-4aa3-48ce-b10b-2497cf61c729",
   "metadata": {},
   "outputs": [
    {
     "data": {
      "text/plain": [
       "4.5"
      ]
     },
     "execution_count": 251,
     "metadata": {},
     "output_type": "execute_result"
    }
   ],
   "source": [
    "num_list=[1,2,3,4,5,6,7,8]\n",
    "calculate_mean(num_list)\n"
   ]
  },
  {
   "cell_type": "code",
   "execution_count": 273,
   "id": "1c0bdfd6-4ee5-4f6c-a664-451fde58f775",
   "metadata": {},
   "outputs": [],
   "source": [
    "def calculate_median(x):\n",
    "    if len(x)%2==1:\n",
    "        median=x[(len(x)//2)]\n",
    "    else:\n",
    "        median=(x[(len(x)//2)-1]+x[(len(x)//2)])/2\n",
    "    return median"
   ]
  },
  {
   "cell_type": "code",
   "execution_count": 275,
   "id": "2479b115-ba9d-49fa-a01e-fc323b3066b5",
   "metadata": {},
   "outputs": [
    {
     "name": "stdout",
     "output_type": "stream",
     "text": [
      "3 3.5\n"
     ]
    }
   ],
   "source": [
    "num_list1=[1,2,3,4,5]\n",
    "num_list2=[1,2,3,4,5,6]\n",
    "median1=calculate_median(num_list1)\n",
    "median2=calculate_median(num_list2)\n",
    "print(median1,median2)"
   ]
  },
  {
   "cell_type": "code",
   "execution_count": 289,
   "id": "ed90516d-dd81-4957-95de-4915e2107669",
   "metadata": {},
   "outputs": [],
   "source": [
    "def calculate_mode(x):\n",
    "    count_dict={}\n",
    "    for i in x:\n",
    "        if i in count_dict:\n",
    "            count_dict[i]+=1\n",
    "        else:\n",
    "            count_dict[i]=1\n",
    "    return(max(count_dict,key=count_dict.get))"
   ]
  },
  {
   "cell_type": "code",
   "execution_count": 291,
   "id": "5e0942e8-f427-4781-aa77-2f5fd3da77ac",
   "metadata": {},
   "outputs": [
    {
     "data": {
      "text/plain": [
       "3"
      ]
     },
     "execution_count": 291,
     "metadata": {},
     "output_type": "execute_result"
    }
   ],
   "source": [
    "list1=[1,2,3,2,3,1,3,2,3]\n",
    "calculate_mode(list1)"
   ]
  },
  {
   "cell_type": "markdown",
   "id": "38d44bee-a6ba-48c4-8436-c7ee4045b8e3",
   "metadata": {},
   "source": [
    "### 6. Declare a function named print_list."
   ]
  },
  {
   "cell_type": "code",
   "execution_count": 316,
   "id": "30990aad-d29b-4f32-8af2-e344898612d0",
   "metadata": {},
   "outputs": [],
   "source": [
    "def print_list(x):\n",
    "    for i in x:\n",
    "        print(i)"
   ]
  },
  {
   "cell_type": "code",
   "execution_count": 318,
   "id": "9fa47aa3-cbf4-4910-88bd-245132ce84ad",
   "metadata": {},
   "outputs": [
    {
     "name": "stdout",
     "output_type": "stream",
     "text": [
      "apple\n",
      "banana\n",
      "orange\n"
     ]
    }
   ],
   "source": [
    "list_a=['apple','banana','orange']\n",
    "print_list(list_a)"
   ]
  },
  {
   "cell_type": "markdown",
   "id": "d784a6a7-364a-4d10-82c8-45a9f19ad71a",
   "metadata": {},
   "source": [
    "## Exercises: Level 3"
   ]
  },
  {
   "cell_type": "markdown",
   "id": "3e430a40-7ee8-41f6-9952-ad6037da97e5",
   "metadata": {},
   "source": [
    "### 1. Write a function called is_prime"
   ]
  },
  {
   "cell_type": "code",
   "execution_count": 376,
   "id": "85565740-64f3-49bc-b5b9-ada010aa92bb",
   "metadata": {},
   "outputs": [],
   "source": [
    "def is_prime(x):\n",
    "    divisor=[]\n",
    "    for i in range(1,x+1):\n",
    "        if x/i == x//i:\n",
    "            divisor.append(i)\n",
    "        else:\n",
    "            continue\n",
    "    if len(divisor)==2:\n",
    "        return True\n",
    "    else:\n",
    "        return False    "
   ]
  },
  {
   "cell_type": "code",
   "execution_count": 394,
   "id": "4a081aa3-eeee-42cd-aa32-a02849cc8eb7",
   "metadata": {},
   "outputs": [
    {
     "data": {
      "text/plain": [
       "(False, False, True, True, False, True, False, True, False)"
      ]
     },
     "execution_count": 394,
     "metadata": {},
     "output_type": "execute_result"
    }
   ],
   "source": [
    "is_prime(0),is_prime(1),is_prime(2),is_prime(3),is_prime(4),is_prime(5),is_prime(6),is_prime(7),is_prime(8)"
   ]
  },
  {
   "cell_type": "code",
   "execution_count": 473,
   "id": "9c3e8499-f7ad-4e67-9a5f-1d4bce1cdcc1",
   "metadata": {},
   "outputs": [
    {
     "name": "stdin",
     "output_type": "stream",
     "text": [
      "Enter a number to check if it is a prime number:  58\n"
     ]
    },
    {
     "data": {
      "text/plain": [
       "False"
      ]
     },
     "execution_count": 473,
     "metadata": {},
     "output_type": "execute_result"
    }
   ],
   "source": [
    "num=int(input(\"Enter a number to check if it is a prime number: \"))\n",
    "is_prime(num)"
   ]
  },
  {
   "cell_type": "markdown",
   "id": "f0b10a56-c0ee-4ac6-b627-00d5ca24a3e2",
   "metadata": {},
   "source": [
    "### 2. Write a functions which checks if all items are unique in the list"
   ]
  },
  {
   "cell_type": "code",
   "execution_count": 441,
   "id": "2fbc7f76-7a0f-41a0-a2cc-be3d85f75b11",
   "metadata": {},
   "outputs": [],
   "source": [
    "def unique_list(x):\n",
    "    unique=True\n",
    "    unique_dict={}\n",
    "    for i in x:\n",
    "        if i in unique_dict:\n",
    "            unique=False\n",
    "        else:\n",
    "            unique_dict[i]=1\n",
    "    return unique"
   ]
  },
  {
   "cell_type": "code",
   "execution_count": 443,
   "id": "14f5b5f2-27bb-4f47-b9e1-1f3ee6eb6804",
   "metadata": {},
   "outputs": [
    {
     "data": {
      "text/plain": [
       "(True, False, True, False)"
      ]
     },
     "execution_count": 443,
     "metadata": {},
     "output_type": "execute_result"
    }
   ],
   "source": [
    "list_1=['a','b','c']\n",
    "list_2=['a','b','b','c']\n",
    "list_3=[1,2,3,4]\n",
    "list_4=[1,2,2,3,4]\n",
    "unique_list(list_1),unique_list(list_2),unique_list(list_3),unique_list(list_4)"
   ]
  },
  {
   "cell_type": "markdown",
   "id": "625c9efd-7461-4929-84a7-f812a77e33dc",
   "metadata": {},
   "source": [
    "### 3. Write a function which checks if all the items of the list are of the same data type."
   ]
  },
  {
   "cell_type": "code",
   "execution_count": 454,
   "id": "c2e4b141-3d9c-4b8b-876f-b9b8cf7069b9",
   "metadata": {},
   "outputs": [],
   "source": [
    "def same_data_type(x):\n",
    "    same_data_type=True\n",
    "    default_type=type(x[0])\n",
    "    for i in x:\n",
    "        if type(i) != default_type:\n",
    "            same_data_type=False\n",
    "    return same_data_type\n",
    "        "
   ]
  },
  {
   "cell_type": "code",
   "execution_count": 468,
   "id": "b672a17c-0815-4823-892c-5135958be650",
   "metadata": {},
   "outputs": [
    {
     "data": {
      "text/plain": [
       "(True, True, False, False, False)"
      ]
     },
     "execution_count": 468,
     "metadata": {},
     "output_type": "execute_result"
    }
   ],
   "source": [
    "list_1=[1,2,3]\n",
    "list_2=['apple','orange','banana']\n",
    "list_3=[1,2,'apple']\n",
    "list_4=['orange','apple',True]\n",
    "list_5=[1,2,3.0]\n",
    "same_data_type(list_1),same_data_type(list_2),same_data_type(list_3),same_data_type(list_4),same_data_type(list_5)"
   ]
  },
  {
   "cell_type": "markdown",
   "id": "86b6e92e-e527-4f47-8cb2-d9854934b310",
   "metadata": {},
   "source": [
    "### 4. Write a function which check if provided variable is a valid python variable"
   ]
  },
  {
   "cell_type": "code",
   "execution_count": 623,
   "id": "3ccf8e85-a9dc-43ca-908e-420447237a30",
   "metadata": {},
   "outputs": [],
   "source": [
    "def valid_variable(x):\n",
    "    try:\n",
    "        exec(f'{x} = {\"''\"}')\n",
    "    except(SyntaxError):\n",
    "        print(\"invalid variable\")\n",
    "        return\n",
    "    print('valid variable')"
   ]
  },
  {
   "cell_type": "code",
   "execution_count": 629,
   "id": "b7d24768-36f5-4055-a901-db9ffc0609d8",
   "metadata": {},
   "outputs": [
    {
     "name": "stdin",
     "output_type": "stream",
     "text": [
      "Enter a variable to check if it's valid:  def\n"
     ]
    },
    {
     "name": "stdout",
     "output_type": "stream",
     "text": [
      "invalid variable\n"
     ]
    }
   ],
   "source": [
    "var=input(\"Enter a variable to check if it's valid: \")\n",
    "valid_variable(var)"
   ]
  },
  {
   "cell_type": "code",
   "execution_count": 633,
   "id": "23c0c800-ab2f-47d2-bf86-d661266b24fd",
   "metadata": {},
   "outputs": [
    {
     "name": "stdin",
     "output_type": "stream",
     "text": [
      "Enter a variable to check if it's valid:  var\n"
     ]
    },
    {
     "name": "stdout",
     "output_type": "stream",
     "text": [
      "valid variable\n"
     ]
    }
   ],
   "source": [
    "var=input(\"Enter a variable to check if it's valid: \")\n",
    "valid_variable(var)"
   ]
  }
 ],
 "metadata": {
  "kernelspec": {
   "display_name": "Python 3 (ipykernel)",
   "language": "python",
   "name": "python3"
  },
  "language_info": {
   "codemirror_mode": {
    "name": "ipython",
    "version": 3
   },
   "file_extension": ".py",
   "mimetype": "text/x-python",
   "name": "python",
   "nbconvert_exporter": "python",
   "pygments_lexer": "ipython3",
   "version": "3.12.4"
  }
 },
 "nbformat": 4,
 "nbformat_minor": 5
}
